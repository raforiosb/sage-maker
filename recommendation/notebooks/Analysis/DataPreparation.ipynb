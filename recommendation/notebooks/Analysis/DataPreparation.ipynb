{
 "cells": [
  {
   "cell_type": "markdown",
   "metadata": {},
   "source": [
    "# Download Data to train Recommendation System"
   ]
  },
  {
   "cell_type": "code",
   "execution_count": 1,
   "metadata": {},
   "outputs": [],
   "source": [
    "%%capture\n",
    "!pip install googletranslate\n",
    "!pip install googletrans\n",
    "!pip install langdetect\n",
    "!pip install spacy\n",
    "!python -m spacy download en_core_web_sm"
   ]
  },
  {
   "cell_type": "code",
   "execution_count": 2,
   "metadata": {},
   "outputs": [],
   "source": [
    "%load_ext autoreload\n",
    "%autoreload 2"
   ]
  },
  {
   "cell_type": "code",
   "execution_count": 3,
   "metadata": {},
   "outputs": [],
   "source": [
    "from utils import *\n",
    "from tqdm import tqdm\n",
    "tqdm.pandas(desc=\"Preprocess Data\")"
   ]
  },
  {
   "cell_type": "code",
   "execution_count": 4,
   "metadata": {},
   "outputs": [
    {
     "name": "stderr",
     "output_type": "stream",
     "text": [
      "2020-07-14 01:14:51,825 : INFO : Downloading Dataset on koombea.com///wp-json/wp/v2/posts?page&per_page\n",
      "2020-07-14 01:14:56,420 : INFO : Downloading blogs = 20\n",
      "2020-07-14 01:15:02,891 : INFO : Downloading blogs = 40\n",
      "2020-07-14 01:15:09,401 : INFO : Downloading blogs = 60\n",
      "2020-07-14 01:15:15,945 : INFO : Downloading blogs = 80\n",
      "2020-07-14 01:15:22,502 : INFO : Downloading blogs = 100\n",
      "2020-07-14 01:15:29,041 : INFO : Downloading blogs = 120\n",
      "2020-07-14 01:15:35,507 : INFO : Downloading blogs = 140\n",
      "2020-07-14 01:15:42,057 : INFO : Downloading blogs = 160\n",
      "2020-07-14 01:15:49,851 : INFO : Downloading blogs = 180\n",
      "2020-07-14 01:15:56,581 : INFO : Downloading blogs = 200\n",
      "2020-07-14 01:16:04,072 : INFO : Downloading blogs = 220\n",
      "2020-07-14 01:16:10,719 : INFO : Downloading blogs = 240\n",
      "2020-07-14 01:16:17,266 : INFO : Downloading blogs = 260\n",
      "2020-07-14 01:16:23,879 : INFO : Downloading blogs = 280\n",
      "2020-07-14 01:16:30,461 : INFO : Downloading blogs = 300\n",
      "2020-07-14 01:16:36,993 : INFO : Downloading blogs = 320\n",
      "2020-07-14 01:16:43,540 : INFO : Downloading blogs = 340\n",
      "2020-07-14 01:16:50,054 : INFO : Downloading blogs = 360\n",
      "2020-07-14 01:16:56,578 : INFO : Downloading blogs = 380\n",
      "2020-07-14 01:17:03,108 : INFO : Downloading blogs = 400\n",
      "2020-07-14 01:17:09,630 : INFO : Downloading blogs = 420\n",
      "2020-07-14 01:17:16,278 : INFO : Downloading blogs = 440\n",
      "2020-07-14 01:17:22,810 : INFO : Downloading blogs = 460\n",
      "2020-07-14 01:17:28,310 : ERROR : Error! can only concatenate list (not \"dict\") to list\n",
      "2020-07-14 01:17:28,312 : INFO : Begin To clean datablogs and grab title and content information\n",
      "Cleaning html data: 100%|██████████| 474/474 [00:01<00:00, 262.40it/s]\n",
      "2020-07-14 01:17:30,165 : INFO : Finish!! Donwloading the blogs\n"
     ]
    }
   ],
   "source": [
    "blogs_df, last_page = get_data_frame(page=1)"
   ]
  },
  {
   "cell_type": "markdown",
   "metadata": {},
   "source": [
    "# Data Description"
   ]
  },
  {
   "cell_type": "code",
   "execution_count": 5,
   "metadata": {},
   "outputs": [
    {
     "data": {
      "text/html": [
       "<div>\n",
       "<style scoped>\n",
       "    .dataframe tbody tr th:only-of-type {\n",
       "        vertical-align: middle;\n",
       "    }\n",
       "\n",
       "    .dataframe tbody tr th {\n",
       "        vertical-align: top;\n",
       "    }\n",
       "\n",
       "    .dataframe thead th {\n",
       "        text-align: right;\n",
       "    }\n",
       "</style>\n",
       "<table border=\"1\" class=\"dataframe\">\n",
       "  <thead>\n",
       "    <tr style=\"text-align: right;\">\n",
       "      <th></th>\n",
       "      <th>id</th>\n",
       "      <th>title</th>\n",
       "      <th>content</th>\n",
       "      <th>slug</th>\n",
       "    </tr>\n",
       "  </thead>\n",
       "  <tbody>\n",
       "    <tr>\n",
       "      <th>0</th>\n",
       "      <td>2869</td>\n",
       "      <td>Why Scalability Matters for Your App</td>\n",
       "      <td>Building an app is an extensive process. From ...</td>\n",
       "      <td>why-scalability-matters-for-your-app</td>\n",
       "    </tr>\n",
       "    <tr>\n",
       "      <th>1</th>\n",
       "      <td>2873</td>\n",
       "      <td>Is a Scrum Agile Development Process Right for...</td>\n",
       "      <td>A Brief History of Scrum Agile Development: \\n...</td>\n",
       "      <td>is-a-scrum-agile-development-process-right-for...</td>\n",
       "    </tr>\n",
       "    <tr>\n",
       "      <th>2</th>\n",
       "      <td>2876</td>\n",
       "      <td>How to Make Your App Irresistible Through User...</td>\n",
       "      <td>Guessing is a part of life—and it’s necessary....</td>\n",
       "      <td>how-to-make-your-app-irresistible-through-user...</td>\n",
       "    </tr>\n",
       "    <tr>\n",
       "      <th>3</th>\n",
       "      <td>2877</td>\n",
       "      <td>5 Product Manager MUSTS for Creating a Success...</td>\n",
       "      <td>Product management is a tough job. You must tr...</td>\n",
       "      <td>5-product-manager-musts-for-creating-a-success...</td>\n",
       "    </tr>\n",
       "    <tr>\n",
       "      <th>4</th>\n",
       "      <td>2878</td>\n",
       "      <td>7 Key Questions to Ask Your Prospective App De...</td>\n",
       "      <td>From the moment you decide to move forward wit...</td>\n",
       "      <td>7-key-questions-to-ask-prospective-app-develop...</td>\n",
       "    </tr>\n",
       "  </tbody>\n",
       "</table>\n",
       "</div>"
      ],
      "text/plain": [
       "     id                                              title  \\\n",
       "0  2869               Why Scalability Matters for Your App   \n",
       "1  2873  Is a Scrum Agile Development Process Right for...   \n",
       "2  2876  How to Make Your App Irresistible Through User...   \n",
       "3  2877  5 Product Manager MUSTS for Creating a Success...   \n",
       "4  2878  7 Key Questions to Ask Your Prospective App De...   \n",
       "\n",
       "                                             content  \\\n",
       "0  Building an app is an extensive process. From ...   \n",
       "1  A Brief History of Scrum Agile Development: \\n...   \n",
       "2  Guessing is a part of life—and it’s necessary....   \n",
       "3  Product management is a tough job. You must tr...   \n",
       "4  From the moment you decide to move forward wit...   \n",
       "\n",
       "                                                slug  \n",
       "0               why-scalability-matters-for-your-app  \n",
       "1  is-a-scrum-agile-development-process-right-for...  \n",
       "2  how-to-make-your-app-irresistible-through-user...  \n",
       "3  5-product-manager-musts-for-creating-a-success...  \n",
       "4  7-key-questions-to-ask-prospective-app-develop...  "
      ]
     },
     "execution_count": 5,
     "metadata": {},
     "output_type": "execute_result"
    }
   ],
   "source": [
    "blogs_df.head()"
   ]
  },
  {
   "cell_type": "code",
   "execution_count": 6,
   "metadata": {},
   "outputs": [
    {
     "data": {
      "text/plain": [
       "(474, 4)"
      ]
     },
     "execution_count": 6,
     "metadata": {},
     "output_type": "execute_result"
    }
   ],
   "source": [
    "blogs_df.shape"
   ]
  },
  {
   "cell_type": "markdown",
   "metadata": {},
   "source": [
    "# Normalize Data"
   ]
  },
  {
   "cell_type": "code",
   "execution_count": 7,
   "metadata": {},
   "outputs": [
    {
     "name": "stderr",
     "output_type": "stream",
     "text": [
      "2020-07-14 01:17:30,328 : INFO : NumExpr defaulting to 2 threads.\n"
     ]
    }
   ],
   "source": [
    "blogs_df[\"data\"] = blogs_df[\"title\"] + \" \" + blogs_df[\"content\"]"
   ]
  },
  {
   "cell_type": "code",
   "execution_count": 8,
   "metadata": {},
   "outputs": [
    {
     "name": "stderr",
     "output_type": "stream",
     "text": [
      "Preprocess Data: 100%|██████████| 474/474 [00:14<00:00, 33.39it/s]\n"
     ]
    }
   ],
   "source": [
    "blogs_df[\"normalize_data\"] = blogs_df[\"data\"].progress_apply(translate_spanish_data)"
   ]
  },
  {
   "cell_type": "code",
   "execution_count": 9,
   "metadata": {},
   "outputs": [
    {
     "data": {
      "text/html": [
       "<div>\n",
       "<style scoped>\n",
       "    .dataframe tbody tr th:only-of-type {\n",
       "        vertical-align: middle;\n",
       "    }\n",
       "\n",
       "    .dataframe tbody tr th {\n",
       "        vertical-align: top;\n",
       "    }\n",
       "\n",
       "    .dataframe thead th {\n",
       "        text-align: right;\n",
       "    }\n",
       "</style>\n",
       "<table border=\"1\" class=\"dataframe\">\n",
       "  <thead>\n",
       "    <tr style=\"text-align: right;\">\n",
       "      <th></th>\n",
       "      <th>id</th>\n",
       "      <th>title</th>\n",
       "      <th>content</th>\n",
       "      <th>slug</th>\n",
       "      <th>data</th>\n",
       "      <th>normalize_data</th>\n",
       "    </tr>\n",
       "  </thead>\n",
       "  <tbody>\n",
       "    <tr>\n",
       "      <th>0</th>\n",
       "      <td>2869</td>\n",
       "      <td>Why Scalability Matters for Your App</td>\n",
       "      <td>Building an app is an extensive process. From ...</td>\n",
       "      <td>why-scalability-matters-for-your-app</td>\n",
       "      <td>Why Scalability Matters for Your App Building ...</td>\n",
       "      <td>Why Scalability Matters for Your App Building ...</td>\n",
       "    </tr>\n",
       "    <tr>\n",
       "      <th>1</th>\n",
       "      <td>2873</td>\n",
       "      <td>Is a Scrum Agile Development Process Right for...</td>\n",
       "      <td>A Brief History of Scrum Agile Development: \\n...</td>\n",
       "      <td>is-a-scrum-agile-development-process-right-for...</td>\n",
       "      <td>Is a Scrum Agile Development Process Right for...</td>\n",
       "      <td>Is a Scrum Agile Development Process Right for...</td>\n",
       "    </tr>\n",
       "    <tr>\n",
       "      <th>2</th>\n",
       "      <td>2876</td>\n",
       "      <td>How to Make Your App Irresistible Through User...</td>\n",
       "      <td>Guessing is a part of life—and it’s necessary....</td>\n",
       "      <td>how-to-make-your-app-irresistible-through-user...</td>\n",
       "      <td>How to Make Your App Irresistible Through User...</td>\n",
       "      <td>How to Make Your App Irresistible Through User...</td>\n",
       "    </tr>\n",
       "    <tr>\n",
       "      <th>3</th>\n",
       "      <td>2877</td>\n",
       "      <td>5 Product Manager MUSTS for Creating a Success...</td>\n",
       "      <td>Product management is a tough job. You must tr...</td>\n",
       "      <td>5-product-manager-musts-for-creating-a-success...</td>\n",
       "      <td>5 Product Manager MUSTS for Creating a Success...</td>\n",
       "      <td>5 Product Manager MUSTS for Creating a Success...</td>\n",
       "    </tr>\n",
       "    <tr>\n",
       "      <th>4</th>\n",
       "      <td>2878</td>\n",
       "      <td>7 Key Questions to Ask Your Prospective App De...</td>\n",
       "      <td>From the moment you decide to move forward wit...</td>\n",
       "      <td>7-key-questions-to-ask-prospective-app-develop...</td>\n",
       "      <td>7 Key Questions to Ask Your Prospective App De...</td>\n",
       "      <td>7 Key Questions to Ask Your Prospective App De...</td>\n",
       "    </tr>\n",
       "  </tbody>\n",
       "</table>\n",
       "</div>"
      ],
      "text/plain": [
       "     id                                              title  \\\n",
       "0  2869               Why Scalability Matters for Your App   \n",
       "1  2873  Is a Scrum Agile Development Process Right for...   \n",
       "2  2876  How to Make Your App Irresistible Through User...   \n",
       "3  2877  5 Product Manager MUSTS for Creating a Success...   \n",
       "4  2878  7 Key Questions to Ask Your Prospective App De...   \n",
       "\n",
       "                                             content  \\\n",
       "0  Building an app is an extensive process. From ...   \n",
       "1  A Brief History of Scrum Agile Development: \\n...   \n",
       "2  Guessing is a part of life—and it’s necessary....   \n",
       "3  Product management is a tough job. You must tr...   \n",
       "4  From the moment you decide to move forward wit...   \n",
       "\n",
       "                                                slug  \\\n",
       "0               why-scalability-matters-for-your-app   \n",
       "1  is-a-scrum-agile-development-process-right-for...   \n",
       "2  how-to-make-your-app-irresistible-through-user...   \n",
       "3  5-product-manager-musts-for-creating-a-success...   \n",
       "4  7-key-questions-to-ask-prospective-app-develop...   \n",
       "\n",
       "                                                data  \\\n",
       "0  Why Scalability Matters for Your App Building ...   \n",
       "1  Is a Scrum Agile Development Process Right for...   \n",
       "2  How to Make Your App Irresistible Through User...   \n",
       "3  5 Product Manager MUSTS for Creating a Success...   \n",
       "4  7 Key Questions to Ask Your Prospective App De...   \n",
       "\n",
       "                                      normalize_data  \n",
       "0  Why Scalability Matters for Your App Building ...  \n",
       "1  Is a Scrum Agile Development Process Right for...  \n",
       "2  How to Make Your App Irresistible Through User...  \n",
       "3  5 Product Manager MUSTS for Creating a Success...  \n",
       "4  7 Key Questions to Ask Your Prospective App De...  "
      ]
     },
     "execution_count": 9,
     "metadata": {},
     "output_type": "execute_result"
    }
   ],
   "source": [
    "blogs_df.head()"
   ]
  },
  {
   "cell_type": "markdown",
   "metadata": {},
   "source": [
    "# Get Lang"
   ]
  },
  {
   "cell_type": "code",
   "execution_count": 10,
   "metadata": {},
   "outputs": [
    {
     "name": "stderr",
     "output_type": "stream",
     "text": [
      "Preprocess Data: 100%|██████████| 474/474 [00:11<00:00, 39.78it/s]\n"
     ]
    }
   ],
   "source": [
    "blogs_df[\"lang\"] = blogs_df[\"data\"].progress_apply(get_lang)"
   ]
  },
  {
   "cell_type": "markdown",
   "metadata": {},
   "source": [
    "# Save Data"
   ]
  },
  {
   "cell_type": "code",
   "execution_count": 11,
   "metadata": {},
   "outputs": [],
   "source": [
    "blogs_df.to_csv(\"data/blogs_data.csv\", index=False)"
   ]
  }
 ],
 "metadata": {
  "kernelspec": {
   "display_name": "conda_python3",
   "language": "python",
   "name": "conda_python3"
  },
  "language_info": {
   "codemirror_mode": {
    "name": "ipython",
    "version": 3
   },
   "file_extension": ".py",
   "mimetype": "text/x-python",
   "name": "python",
   "nbconvert_exporter": "python",
   "pygments_lexer": "ipython3",
   "version": "3.6.10"
  }
 },
 "nbformat": 4,
 "nbformat_minor": 4
}
