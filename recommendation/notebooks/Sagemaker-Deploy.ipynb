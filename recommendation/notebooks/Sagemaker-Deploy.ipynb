{
 "cells": [
  {
   "cell_type": "markdown",
   "metadata": {
    "tags": []
   },
   "source": [
    "# Sagemaker deploy"
   ]
  },
  {
   "cell_type": "code",
   "execution_count": 1,
   "metadata": {},
   "outputs": [],
   "source": [
    "%%capture\n",
    "!~/anaconda3/envs/python38/bin/python -m pip install sagemaker"
   ]
  },
  {
   "cell_type": "code",
   "execution_count": 2,
   "metadata": {},
   "outputs": [],
   "source": [
    "from sagemaker import Session, get_execution_role\n",
    "from sagemaker.model import Model\n",
    "import os\n",
    "import json"
   ]
  },
  {
   "cell_type": "markdown",
   "metadata": {},
   "source": [
    "# Build and push docker image"
   ]
  },
  {
   "cell_type": "code",
   "execution_count": 3,
   "metadata": {},
   "outputs": [],
   "source": [
    "stage = 'prod'\n",
    "os.environ[\"staging\"] = stage"
   ]
  },
  {
   "cell_type": "code",
   "execution_count": 4,
   "metadata": {
    "scrolled": true,
    "tags": []
   },
   "outputs": [
    {
     "name": "stdout",
     "output_type": "stream",
     "text": [
      "Loging to ECR\n",
      "WARNING! Your password will be stored unencrypted in /home/ec2-user/.docker/config.json.\n",
      "Configure a credential helper to remove this warning. See\n",
      "https://docs.docker.com/engine/reference/commandline/login/#credentials-store\n",
      "\n",
      "Login Succeeded\n",
      "Selected stage:  prod\n",
      "Sending build context to Docker daemon  113.3MB\n",
      "Step 1/29 : FROM continuumio/miniconda3\n",
      " ---> 45461d36cbf1\n",
      "Step 2/29 : WORKDIR /opt/ml/code\n",
      " ---> Using cache\n",
      " ---> 1d42458c2aad\n",
      "Step 3/29 : RUN apt-get update && apt-get install -y --no-install-recommends     curl     gcc      mono-mcs     build-essential     nginx     ca-certificates     wget     pkg-config\n",
      " ---> Using cache\n",
      " ---> 4cd8dd321ea2\n",
      "Step 4/29 : RUN cd /tmp &&     wget http://download.redis.io/redis-stable.tar.gz &&     tar xvzf redis-stable.tar.gz &&     cd redis-stable &&     make &&     make install\n",
      " ---> Using cache\n",
      " ---> 15d9fd4ab548\n",
      "Step 5/29 : ARG conda_env=python38\n",
      " ---> Using cache\n",
      " ---> 35c119ef298c\n",
      "Step 6/29 : ARG py_ver=3.8.10\n",
      " ---> Using cache\n",
      " ---> a2fbb1899926\n",
      "Step 7/29 : ARG CONDA_DIR=/opt/conda\n",
      " ---> Using cache\n",
      " ---> 7a247c8a00fa\n",
      "Step 8/29 : RUN conda create --quiet --yes -p \"${CONDA_DIR}/envs/${conda_env}\" python=${py_ver} &&     conda clean --all -f -y\n",
      " ---> Using cache\n",
      " ---> 714c103040fe\n",
      "Step 9/29 : COPY requirements .\n",
      " ---> Using cache\n",
      " ---> ec37c85caa70\n",
      "Step 10/29 : RUN \"${CONDA_DIR}/envs/${conda_env}/bin/pip\" install -U pip\n",
      " ---> Using cache\n",
      " ---> a731e81edf73\n",
      "Step 11/29 : RUN \"${CONDA_DIR}/envs/${conda_env}/bin/pip\" install -r requirements-notebook.txt\n",
      " ---> Using cache\n",
      " ---> 468e61e56196\n",
      "Step 12/29 : RUN \"${CONDA_DIR}/envs/${conda_env}/bin/python\" -m spacy download en_core_web_sm\n",
      " ---> Using cache\n",
      " ---> 307d1bc5dd21\n",
      "Step 13/29 : RUN \"${CONDA_DIR}/envs/${conda_env}/bin/python\" -m spacy download es_core_news_sm\n",
      " ---> Using cache\n",
      " ---> efcb39bd28ac\n",
      "Step 14/29 : RUN \"${CONDA_DIR}/envs/${conda_env}/bin/python\" -m nltk.downloader stopwords\n",
      " ---> Using cache\n",
      " ---> d4d4cf3695d1\n",
      "Step 15/29 : RUN \"${CONDA_DIR}/envs/${conda_env}/bin/pip\" install -r requirements-problems.txt\n",
      " ---> Using cache\n",
      " ---> 8e7f99477600\n",
      "Step 16/29 : RUN conda install -p \"${CONDA_DIR}/envs/${conda_env}\" -c pytorch faiss-cpu -y &&     conda clean --all -f -y\n",
      " ---> Using cache\n",
      " ---> f204cc38194f\n",
      "Step 17/29 : ENV PYTHONUNBUFFERED=TRUE\n",
      " ---> Using cache\n",
      " ---> 5085735e7eb3\n",
      "Step 18/29 : ENV PYTHONDONTWRITEBYTECODE=TRUE\n",
      " ---> Using cache\n",
      " ---> ab90a300958e\n",
      "Step 19/29 : ENV STAGE=prod\n",
      " ---> Using cache\n",
      " ---> 4db89b2fe39f\n",
      "Step 20/29 : ENV PATH=\"/opt/ml/code:${CONDA_DIR}/envs/${conda_env}/bin:${PATH}\"\n",
      " ---> Using cache\n",
      " ---> 89ddde95b08c\n",
      "Step 21/29 : ENV CONDA_DEFAULT_ENV \"${conda_env}\"\n",
      " ---> Using cache\n",
      " ---> d9f17ff0baf3\n",
      "Step 22/29 : ENV CONDA_PREFIX \"${CONDA_DIR}/envs/${conda_env}\"\n",
      " ---> Using cache\n",
      " ---> 9247408ee0ed\n",
      "Step 23/29 : ENV CONFIG_DIR=\"/opt/ml/input/config\"\n",
      " ---> Using cache\n",
      " ---> 96332a0b54e7\n",
      "Step 24/29 : RUN echo prod\n",
      " ---> Using cache\n",
      " ---> 5bb71d0424fe\n",
      "Step 25/29 : COPY config/redis.conf /etc/redis/redis.conf\n",
      " ---> Using cache\n",
      " ---> 5790b6661e09\n",
      "Step 26/29 : COPY config/nginx.conf /opt/ml/input/config/nginx.conf\n",
      " ---> Using cache\n",
      " ---> cdb17bfbd509\n",
      "Step 27/29 : COPY config/analytics-key.json /opt/ml/input/config/analytics-key.json\n",
      " ---> Using cache\n",
      " ---> 41cd0b435cb0\n",
      "Step 28/29 : COPY config/dataBaseKey.pem /opt/ml/input/config\n",
      " ---> Using cache\n",
      " ---> bb7916b9b459\n",
      "Step 29/29 : COPY src /opt/ml/code\n",
      " ---> db114610f2ad\n",
      "Successfully built db114610f2ad\n",
      "Successfully tagged blogs-reco-system:latest\n",
      "Pushing\n",
      "The push refers to repository [256305374409.dkr.ecr.us-west-2.amazonaws.com/blogs-reco-system]\n",
      "\n",
      "\u001b[1B5230e07a: Preparing \n",
      "\u001b[1Bc66d021a: Preparing \n",
      "\u001b[1B745332bf: Preparing \n",
      "\u001b[1B65b9a4d9: Preparing \n",
      "\u001b[1B6eb250fe: Preparing \n",
      "\u001b[1B7714a9f3: Preparing \n",
      "\u001b[1B95ce795a: Preparing \n",
      "\u001b[1B9559cd0b: Preparing \n",
      "\u001b[1Bdee03e4f: Preparing \n",
      "\u001b[1B66506a82: Preparing \n",
      "\u001b[1B516f01ad: Preparing \n",
      "\u001b[1B4d4a4a27: Preparing \n",
      "\u001b[1B1685043d: Preparing \n",
      "\u001b[1B0c1bce7d: Preparing \n",
      "\u001b[1Bd708c5d4: Preparing \n",
      "\u001b[1B61c8e7a3: Preparing \n",
      "\u001b[1B56d47792: Preparing \n",
      "\u001b[1B617bd3c6: Preparing \n",
      "\u001b[1B2a3896c6: Preparing \n",
      "\u001b[20B230e07a: Pushed   10.67MB/10.61MB\u001b[15A\u001b[2K\u001b[9A\u001b[2K\u001b[5A\u001b[2K\u001b[3A\u001b[2K\u001b[20A\u001b[2K\u001b[20A\u001b[2K\u001b[20A\u001b[2K\u001b[20A\u001b[2Klatest: digest: sha256:2b1b196e01722e674959e1d85c0d1d41d2380aa5c553bece20929775cb35bf81 size: 4529\n",
      "Cleaning\n"
     ]
    }
   ],
   "source": [
    "!cd .. && ./scripts/build_and_push.sh $staging"
   ]
  },
  {
   "cell_type": "markdown",
   "metadata": {},
   "source": [
    "# Get Configurations Values"
   ]
  },
  {
   "cell_type": "code",
   "execution_count": 5,
   "metadata": {},
   "outputs": [],
   "source": [
    "sagemaker_session = Session()\n",
    "sagemaker_role = get_execution_role()"
   ]
  },
  {
   "cell_type": "code",
   "execution_count": 6,
   "metadata": {},
   "outputs": [],
   "source": [
    "account = sagemaker_session.boto_session.client('sts').get_caller_identity()['Account']\n",
    "region = sagemaker_session.boto_session.region_name"
   ]
  },
  {
   "cell_type": "code",
   "execution_count": 7,
   "metadata": {},
   "outputs": [],
   "source": [
    "ec2_client = sagemaker_session.boto_session.client('ec2')\n",
    "\n",
    "# Get subnets\n",
    "subnets = ec2_client.describe_subnets(\n",
    "    Filters=[\n",
    "        {\n",
    "            'Name':'owner-id',\n",
    "            'Values':[account]\n",
    "        }\n",
    "    ]\n",
    ")\n",
    "# Choose just the private subnets routing to Natgateway\n",
    "subnets_ids = [subnets_[\"SubnetId\"] for subnets_ in subnets[\"Subnets\"] if 'Tags' in subnets_.keys() and 'p' in subnets_[\"Tags\"][0][\"Value\"]]"
   ]
  },
  {
   "cell_type": "code",
   "execution_count": 8,
   "metadata": {},
   "outputs": [],
   "source": [
    "# Get Security Groups\n",
    "security_groups = ec2_client.describe_security_groups(\n",
    "    Filters=[\n",
    "        {\n",
    "            \"Name\":\"owner-id\",\n",
    "            \"Values\":[account]\n",
    "        },\n",
    "        {\n",
    "            \"Name\":\"group-name\",\n",
    "            \"Values\":[\"launch-wizard-1\"]\n",
    "        }\n",
    "    ]\n",
    ")\n",
    "sec_groups_ids = [sec_groups_[\"GroupId\"] for sec_groups_ in security_groups[\"SecurityGroups\"]]"
   ]
  },
  {
   "cell_type": "markdown",
   "metadata": {},
   "source": [
    "# Tar Local Model Directory"
   ]
  },
  {
   "cell_type": "code",
   "execution_count": 9,
   "metadata": {},
   "outputs": [
    {
     "name": "stdout",
     "output_type": "stream",
     "text": [
      "Directory where local model artifacts are stored /home/ec2-user/SageMaker/sage-maker/model\n"
     ]
    }
   ],
   "source": [
    "import tarfile\n",
    "import os\n",
    "\n",
    "base_directory = '/'.join(os.getcwd().split('/')[:-1])\n",
    "local_model_directory = os.path.join(base_directory, 'model')\n",
    "local_artifacts_directory = os.path.join(base_directory, 'artifacts')\n",
    "print(\"Directory where local model artifacts are stored \" + local_model_directory)"
   ]
  },
  {
   "cell_type": "code",
   "execution_count": 10,
   "metadata": {},
   "outputs": [],
   "source": [
    "def flatten(tarinfo):\n",
    "    tarinfo.name = os.path.basename(tarinfo.name)\n",
    "    return tarinfo\n",
    "\n",
    "tar_name = 'model.tar.gz'\n",
    "with tarfile.open(tar_name, mode='w:gz') as tar_artifacts:\n",
    "    for artifact_file in os.listdir(local_model_directory):\n",
    "        tar_artifacts.add(os.path.join(local_model_directory, artifact_file),\n",
    "                          filter=flatten)\n",
    "tar_artifacts.close()\n",
    "\n",
    "os.rename(\n",
    "    os.path.join(base_directory, 'notebooks', tar_name),\n",
    "    os.path.join(local_artifacts_directory, tar_name)\n",
    ")"
   ]
  },
  {
   "cell_type": "markdown",
   "metadata": {},
   "source": [
    "# Upload To S3 bucket project"
   ]
  },
  {
   "cell_type": "code",
   "execution_count": 11,
   "metadata": {},
   "outputs": [],
   "source": [
    "S3_Bucket = \"sagemaker-us-west-2-256305374409\"\n",
    "File_Project = \"Koombea_Blogs_Reco\"\n",
    "\n",
    "model_input = sagemaker_session.upload_data(\n",
    "    path='{}/{}'.format(local_artifacts_directory, tar_name), # Path in this notebook where the data is located\n",
    "    bucket=S3_Bucket,\n",
    "    key_prefix='{}/{}'.format(File_Project, 'model'))"
   ]
  },
  {
   "cell_type": "code",
   "execution_count": 12,
   "metadata": {},
   "outputs": [
    {
     "data": {
      "text/plain": [
       "'s3://sagemaker-us-west-2-256305374409/Koombea_Blogs_Reco/model/model.tar.gz'"
      ]
     },
     "execution_count": 12,
     "metadata": {},
     "output_type": "execute_result"
    }
   ],
   "source": [
    "model_input"
   ]
  },
  {
   "cell_type": "markdown",
   "metadata": {},
   "source": [
    "# Image Uri Name"
   ]
  },
  {
   "cell_type": "code",
   "execution_count": 13,
   "metadata": {},
   "outputs": [],
   "source": [
    "image_name = '{0}.dkr.ecr.{1}.amazonaws.com/blogs-reco-system'.format(account, region)"
   ]
  },
  {
   "cell_type": "markdown",
   "metadata": {},
   "source": [
    "# See all the configurations"
   ]
  },
  {
   "cell_type": "markdown",
   "metadata": {},
   "source": [
    "prod: blogsreco-stage-prod-2020-07-27-20-19-34 <br/>\n",
    "dev: blogsreco-stage-dev-2020-07-27-19-34-26"
   ]
  },
  {
   "cell_type": "code",
   "execution_count": 14,
   "metadata": {},
   "outputs": [
    {
     "name": "stdout",
     "output_type": "stream",
     "text": [
      "Endpoint Name: blogsreco-stage-prod-2020-07-27-20-19-34\n",
      "Model Name: model-blogsreco-stage-prod-2023-01-27-19-49-56\n",
      "Subnets ids : [\n",
      " \"subnet-027f61eee464e12db\",\n",
      " \"subnet-06d298c2c73bc19c2\",\n",
      " \"subnet-0e6ae500c242d1234\",\n",
      " \"subnet-0adba2c223284fabb\",\n",
      " \"subnet-0f789348e3a0d94cf\",\n",
      " \"subnet-001fbdb3812fed3db\",\n",
      " \"subnet-0776a5c90121609e8\",\n",
      " \"subnet-0ca110411c0e42d25\",\n",
      " \"subnet-0ee3997af1cc54fed\",\n",
      " \"subnet-04e17649f653d300c\",\n",
      " \"subnet-0e36733aecddd9521\"\n",
      "]\n",
      "Security grousp ids: [\n",
      " \"sg-093d444a974077472\"\n",
      "]\n"
     ]
    }
   ],
   "source": [
    "import json\n",
    "from time import gmtime, strftime\n",
    "#endpoint_name = \"blogsreco-stage-{0}-{1}\".format(stage, strftime(\"%Y-%m-%d-%H-%M-%S\", gmtime()))\n",
    "if stage == 'dev':\n",
    "    endpoint_name = \"blogsreco-stage-dev-2020-07-27-19-34-26\" # dev\n",
    "else:\n",
    "    endpoint_name = \"blogsreco-stage-prod-2020-07-27-20-19-34\" # prod\n",
    "model_name = 'model-blogsreco-stage-{0}-{1}'.format(stage, strftime(\"%Y-%m-%d-%H-%M-%S\", gmtime()))\n",
    "print(\"Endpoint Name: \"+endpoint_name)\n",
    "print(\"Model Name: \"+model_name)\n",
    "# print(\"Path to model artifacts \"+model_input)\n",
    "# print(\"Image Uri to inference docker app \"+image_name)\n",
    "print(\"Subnets ids : \"+json.dumps(subnets_ids, indent=True))\n",
    "print(\"Security grousp ids: \"+json.dumps(sec_groups_ids, indent=True))"
   ]
  },
  {
   "cell_type": "code",
   "execution_count": 15,
   "metadata": {},
   "outputs": [],
   "source": [
    "sagemaker_model = Model(model_data=model_input,\n",
    "                       role=sagemaker_role,\n",
    "                       sagemaker_session=sagemaker_session,\n",
    "                       name=model_name,\n",
    "                       vpc_config={\"Subnets\":[subnets_ids[2],subnets_ids[3],subnets_ids[4]],\n",
    "                                  \"SecurityGroupIds\":sec_groups_ids},\n",
    "                       image_uri=image_name)"
   ]
  },
  {
   "cell_type": "code",
   "execution_count": 16,
   "metadata": {},
   "outputs": [],
   "source": [
    "sagemaker_model.create(\n",
    "    instance_type=\"ml.t2.xlarge\"\n",
    ")"
   ]
  },
  {
   "cell_type": "code",
   "execution_count": 18,
   "metadata": {
    "tags": []
   },
   "outputs": [],
   "source": [
    "# sagemaker_model.deploy(\n",
    "#    initial_instance_count=1, \n",
    "#    instance_type=\"ml.t2.2xlarge\", \n",
    "#    endpoint_name= endpoint_name,\n",
    "    #update_endpoint=True\n",
    "#)"
   ]
  },
  {
   "cell_type": "code",
   "execution_count": 19,
   "metadata": {},
   "outputs": [],
   "source": [
    "# sagemaker_model.delete_model()"
   ]
  },
  {
   "cell_type": "markdown",
   "metadata": {},
   "source": [
    "# Get Predictor or use boto3 to make predictions"
   ]
  },
  {
   "cell_type": "code",
   "execution_count": 20,
   "metadata": {},
   "outputs": [],
   "source": [
    "from sagemaker.predictor import Predictor"
   ]
  },
  {
   "cell_type": "code",
   "execution_count": 21,
   "metadata": {},
   "outputs": [
    {
     "name": "stderr",
     "output_type": "stream",
     "text": [
      "content_type is a no-op in sagemaker>=2.\n",
      "See: https://sagemaker.readthedocs.io/en/stable/v2.html for details.\n"
     ]
    }
   ],
   "source": [
    "predictor = Predictor(endpoint_name=endpoint_name,\n",
    "                             sagemaker_session=sagemaker_session,\n",
    "                             content_type='application/json',\n",
    "                             )"
   ]
  },
  {
   "cell_type": "markdown",
   "metadata": {},
   "source": [
    "## Update Endpoint"
   ]
  },
  {
   "cell_type": "code",
   "execution_count": 22,
   "metadata": {},
   "outputs": [
    {
     "name": "stdout",
     "output_type": "stream",
     "text": [
      "-------!"
     ]
    }
   ],
   "source": [
    "predictor.update_endpoint(initial_instance_count=1,\n",
    "                         instance_type=\"ml.t2.2xlarge\",\n",
    "                         model_name=sagemaker_model.name)"
   ]
  },
  {
   "cell_type": "code",
   "execution_count": 23,
   "metadata": {},
   "outputs": [
    {
     "name": "stdout",
     "output_type": "stream",
     "text": [
      "{\n",
      " \"relates\": [\n",
      "  \"deep-learning-vs-machine-learning\",\n",
      "  \"understanding-machine-learning\",\n",
      "  \"5-uses-of-machine-learning-for-web-and-mobile-apps\",\n",
      "  \"deep-learning-applications-for-fintech\",\n",
      "  \"deep-learning-solutions\"\n",
      " ]\n",
      "}\n",
      " Time Take : 581 ms\r"
     ]
    }
   ],
   "source": [
    "from datetime import datetime\n",
    "import boto3\n",
    "\n",
    "runtime = boto3.client('runtime.sagemaker')\n",
    "start_time = datetime.now()\n",
    "data = {\"slug\": \"what-is-machine-learning\", \"lang\":\"en\", \"topn\": 5}\n",
    "data = json.dumps(data)\n",
    "response = runtime.invoke_endpoint(EndpointName= endpoint_name,\n",
    "                                       ContentType='application/json',\n",
    "                                       Body=data)\n",
    "end_time = datetime.now()\n",
    "prediction = response[\"Body\"].read().decode()\n",
    "time_micro_secs = (end_time - start_time).microseconds\n",
    "\n",
    "relates = json.loads(prediction)\n",
    "print(json.dumps(relates, indent=True))\n",
    "\n",
    "print(f\" Time Take : {time_micro_secs//1000} ms\", flush=True, end='\\r')"
   ]
  },
  {
   "cell_type": "code",
   "execution_count": 24,
   "metadata": {},
   "outputs": [
    {
     "name": "stdout",
     "output_type": "stream",
     "text": [
      "{\n",
      " \"RequestId\": \"9a65f175-15fa-4ede-891c-19fd31474c2c\",\n",
      " \"HTTPStatusCode\": 200,\n",
      " \"HTTPHeaders\": {\n",
      "  \"x-amzn-requestid\": \"9a65f175-15fa-4ede-891c-19fd31474c2c\",\n",
      "  \"x-amzn-invoked-production-variant\": \"AllTraffic\",\n",
      "  \"date\": \"Fri, 27 Jan 2023 20:00:10 GMT\",\n",
      "  \"content-type\": \"application/json\",\n",
      "  \"content-length\": \"202\"\n",
      " },\n",
      " \"RetryAttempts\": 0\n",
      "}\n"
     ]
    }
   ],
   "source": [
    "print(json.dumps(response[\"ResponseMetadata\"], indent=True))"
   ]
  },
  {
   "cell_type": "code",
   "execution_count": 25,
   "metadata": {},
   "outputs": [
    {
     "data": {
      "text/plain": [
       "dict_keys(['ResponseMetadata', 'ContentType', 'InvokedProductionVariant', 'Body'])"
      ]
     },
     "execution_count": 25,
     "metadata": {},
     "output_type": "execute_result"
    }
   ],
   "source": [
    "response.keys()"
   ]
  },
  {
   "cell_type": "markdown",
   "metadata": {},
   "source": [
    "# Now configure API-Gateway and Lambda Function\n",
    "\n",
    "- Go to Api-Gateway (create one)\n",
    "- Go to IAM policies (create one that have log access and invoke sagemaker runtime access)\n",
    "- Go to Lambda (create one and attach the previous created rol to this lambda)\n",
    "- Generate code that generate CORS HEADERS and act as a proxy between api gateway call and sagemaker endpoint call"
   ]
  },
  {
   "cell_type": "code",
   "execution_count": null,
   "metadata": {},
   "outputs": [],
   "source": []
  }
 ],
 "metadata": {
  "kernelspec": {
   "display_name": "python38 my_env",
   "language": "python",
   "name": "python38"
  },
  "language_info": {
   "codemirror_mode": {
    "name": "ipython",
    "version": 3
   },
   "file_extension": ".py",
   "mimetype": "text/x-python",
   "name": "python",
   "nbconvert_exporter": "python",
   "pygments_lexer": "ipython3",
   "version": "3.8.10"
  }
 },
 "nbformat": 4,
 "nbformat_minor": 4
}
