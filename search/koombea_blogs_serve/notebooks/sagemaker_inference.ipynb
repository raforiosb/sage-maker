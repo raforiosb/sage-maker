{
 "cells": [
  {
   "cell_type": "markdown",
   "id": "20966e16",
   "metadata": {},
   "source": [
    "# Test Inference Server Sagemaker Object Locally"
   ]
  },
  {
   "cell_type": "code",
   "execution_count": 1,
   "id": "3468f659",
   "metadata": {},
   "outputs": [],
   "source": [
    "from sagemaker import Session, get_execution_role\n",
    "from sagemaker.predictor import Predictor\n",
    "from sagemaker.model import Model\n",
    "from sagemaker.serializers import JSONSerializer\n",
    "from sagemaker.deserializers import JSONDeserializer\n",
    "from time import gmtime, strftime\n",
    "\n",
    "import json\n",
    "import os"
   ]
  },
  {
   "cell_type": "code",
   "execution_count": 2,
   "id": "651e44b5",
   "metadata": {},
   "outputs": [],
   "source": [
    "def get_execution_role_in_local(sagemaker_session):\n",
    "    role = sagemaker_session.boto_session.client(\"iam\").get_role(\n",
    "        RoleName=\"AmazonSageMaker-ExecutionRole-20230105T181131\"\n",
    "    )[\"Role\"][\"Arn\"]\n",
    "    return role"
   ]
  },
  {
   "cell_type": "code",
   "execution_count": 3,
   "id": "ad198c51",
   "metadata": {},
   "outputs": [],
   "source": [
    "def load_env_variables(*env_files):\n",
    "    env_vars = dict()\n",
    "    get_values = lambda x: [(x.split(\"=\")[0], x.split(\"=\")[1])]\n",
    "    for env_file in env_files:\n",
    "        with open(env_file, \"r\") as file:\n",
    "            env_vars.update(\n",
    "                dict(\n",
    "                    [\n",
    "                        (key.strip(), value.strip()) \n",
    "                        for line in file.readlines()\n",
    "                        for key, value in get_values(line)\n",
    "                    ]\n",
    "                )\n",
    "            )\n",
    "    return env_vars"
   ]
  },
  {
   "cell_type": "code",
   "execution_count": 4,
   "id": "625500ad",
   "metadata": {},
   "outputs": [],
   "source": [
    "def create_container_registry(ecr_client, repository_name, account_id):\n",
    "    try:\n",
    "        repository_info = ecr_client.create_repository(\n",
    "            repositoryName=repository_name,\n",
    "            tags=[\n",
    "                {\n",
    "                    \"Key\": \"Test\",\n",
    "                    \"Value\": \"True\"\n",
    "                }\n",
    "            ],\n",
    "            encryptionConfiguration={\n",
    "                'encryptionType': 'AES256'\n",
    "            }\n",
    "        )[\"repository\"]\n",
    "    except ecr_client.exceptions.RepositoryAlreadyExistsException:\n",
    "        print(\"repository already exists!\")\n",
    "        repository_info = ecr_client.describe_repositories(\n",
    "            registryId=account_id,\n",
    "            repositoryNames=[repository_name]\n",
    "        )[\"repositories\"][0]\n",
    "    return repository_info"
   ]
  },
  {
   "cell_type": "code",
   "execution_count": 5,
   "id": "f7944edc",
   "metadata": {},
   "outputs": [],
   "source": [
    "sagemaker_session = Session()\n",
    "try:\n",
    "    sagemaker_role = get_execution_role()\n",
    "except:\n",
    "    sagemaker_role = get_execution_role_in_local(sagemaker_session)"
   ]
  },
  {
   "cell_type": "markdown",
   "id": "8248a6bc",
   "metadata": {},
   "source": [
    "## Configurations"
   ]
  },
  {
   "cell_type": "code",
   "execution_count": 6,
   "id": "df29f76e",
   "metadata": {},
   "outputs": [],
   "source": [
    "def get_configurations(stage = \"staging\"):\n",
    "    environment = load_env_variables(\"../vars.env\", f\"../vars.{stage}.env\")\n",
    "    return environment"
   ]
  },
  {
   "cell_type": "code",
   "execution_count": 7,
   "id": "5c075627",
   "metadata": {},
   "outputs": [],
   "source": [
    "def set_environ_temporal_variables(**variables):\n",
    "    for name, value in variables.items():\n",
    "        os.environ[name] = value"
   ]
  },
  {
   "cell_type": "code",
   "execution_count": 8,
   "id": "9bbaa052",
   "metadata": {},
   "outputs": [],
   "source": [
    "# I've already create a vpc configuration that is able to connect to koombea db\n",
    "def get_koombea_db_vpc_conf(ec2_client, account_id, security_group_name):\n",
    "    # Get subnets\n",
    "    subnets = ec2_client.describe_subnets(\n",
    "        Filters=[\n",
    "            {\n",
    "                'Name':'owner-id',\n",
    "                'Values':[account_id]\n",
    "            }\n",
    "        ]\n",
    "    )\n",
    "    # choose just the private subnets routing to the NateGateway\n",
    "    subnets_ids = [subnets_[\"SubnetId\"]\n",
    "                   for subnets_ in subnets[\"Subnets\"]\n",
    "                   if \"Tags\" in subnets_.keys() and 'sm' == subnets_[\"Tags\"][0][\"Value\"].split(\"-\")[0] and \"p\" in subnets_[\"Tags\"][0][\"Value\"]]\n",
    "    # get security groups\n",
    "    security_groups = ec2_client.describe_security_groups(\n",
    "        Filters=[\n",
    "            {\n",
    "                \"Name\":\"owner-id\",\n",
    "                \"Values\":[account_id]\n",
    "            },\n",
    "            {\n",
    "                \"Name\":\"group-name\",\n",
    "                \"Values\":[security_group_name]\n",
    "            }\n",
    "        ]\n",
    "    )\n",
    "    sec_groups_ids = [sec_groups_[\"GroupId\"] for sec_groups_ in security_groups[\"SecurityGroups\"]]\n",
    "    return {\"Subnets\":subnets_ids,\n",
    "            \"SecurityGroupIds\":sec_groups_ids}"
   ]
  },
  {
   "cell_type": "code",
   "execution_count": 9,
   "id": "a264d561",
   "metadata": {},
   "outputs": [
    {
     "name": "stdout",
     "output_type": "stream",
     "text": [
      "repository already exists!\n"
     ]
    }
   ],
   "source": [
    "ec2_client = sagemaker_session.boto_session.client(\"ec2\")\n",
    "security_group_name = \"launch-wizard-1\"\n",
    "ecr_client = sagemaker_session.boto_session.client(\"ecr\")\n",
    "account_id = sagemaker_session.account_id()\n",
    "aws_region = sagemaker_session.boto_region_name\n",
    "repository_name = \"koombea-blogs-serve-component\"\n",
    "docker_compose_service_name = \"koombea_blogs_serve_component\"\n",
    "docker_image_name = \"koombea_blogs_serve_{}\".format(docker_compose_service_name)\n",
    "stage = \"staging\"\n",
    "environment = get_configurations(stage)\n",
    "# create or get repository info\n",
    "repository_info = create_container_registry(ecr_client, repository_name, account_id)\n",
    "repository_uri = repository_info[\"repositoryUri\"]\n",
    "# get vpc configuration\n",
    "vpc_config = get_koombea_db_vpc_conf(ec2_client, account_id, security_group_name)"
   ]
  },
  {
   "cell_type": "code",
   "execution_count": 10,
   "id": "a32402bf",
   "metadata": {},
   "outputs": [],
   "source": [
    "set_environ_temporal_variables(\n",
    "    account_id=account_id,\n",
    "    aws_region=aws_region,\n",
    "    docker_compose_service_name=docker_compose_service_name,\n",
    "    docker_image_name=docker_image_name,\n",
    "    repository_uri=repository_uri\n",
    ")"
   ]
  },
  {
   "cell_type": "markdown",
   "id": "cbc82893",
   "metadata": {},
   "source": [
    "# Push container to ecr"
   ]
  },
  {
   "cell_type": "code",
   "execution_count": 11,
   "id": "d1577c05",
   "metadata": {},
   "outputs": [
    {
     "name": "stdout",
     "output_type": "stream",
     "text": [
      "Overwriting ../scripts/build_and_push_ecr.sh\n"
     ]
    }
   ],
   "source": [
    "%%writefile ../scripts/build_and_push_ecr.sh\n",
    "echo \"loging to aws ecr\"\n",
    "aws ecr get-login-password --region ${aws_region} | docker login --username AWS --password-stdin ${account_id}.dkr.ecr.${aws_region}.amazonaws.com\n",
    "\n",
    "echo \"building and tagging docker container\"\n",
    "cd ..\n",
    "docker-compose build ${docker_compose_service_name}\n",
    "docker tag ${docker_image_name}:latest \\\n",
    "    ${repository_uri}:latest\n",
    "\n",
    "echo \"pushing container\"\n",
    "docker push ${repository_uri}:latest\n",
    "    \n",
    "echo \"cleaning dockers cache\"\n",
    "echo y | docker system prune"
   ]
  },
  {
   "cell_type": "code",
   "execution_count": 12,
   "id": "bd3d5572",
   "metadata": {
    "scrolled": true
   },
   "outputs": [
    {
     "name": "stdout",
     "output_type": "stream",
     "text": [
      "loging to aws ecr\n",
      "WARNING! Your password will be stored unencrypted in /home/ec2-user/.docker/config.json.\n",
      "Configure a credential helper to remove this warning. See\n",
      "https://docs.docker.com/engine/reference/commandline/login/#credentials-store\n",
      "\n",
      "Login Succeeded\n",
      "building and tagging docker container\n",
      "Building koombea_blogs_serve_component\n",
      "Sending build context to Docker daemon  334.8kB\n",
      "Step 1/27 : FROM continuumio/miniconda3\n",
      " ---> 45461d36cbf1\n",
      "Step 2/27 : WORKDIR /opt/ml/code\n",
      " ---> Using cache\n",
      " ---> 1d42458c2aad\n",
      "Step 3/27 : RUN apt-get update && apt-get install -y --no-install-recommends     curl     gcc      mono-mcs     build-essential     nginx     ca-certificates     wget     pkg-config\n",
      " ---> Using cache\n",
      " ---> 4cd8dd321ea2\n",
      "Step 4/27 : RUN cd /tmp &&     wget http://download.redis.io/redis-stable.tar.gz &&     tar xvzf redis-stable.tar.gz &&     cd redis-stable &&     make &&     make install\n",
      " ---> Using cache\n",
      " ---> 15d9fd4ab548\n",
      "Step 5/27 : ENV PYTHONDONTWRITEBYTECODE 1\n",
      " ---> Using cache\n",
      " ---> 465e2be21225\n",
      "Step 6/27 : ENV PYTHONUNBUFFERED 1\n",
      " ---> Using cache\n",
      " ---> 3c2abf6bde70\n",
      "Step 7/27 : ARG conda_env=python38\n",
      " ---> Using cache\n",
      " ---> dc109a5d292c\n",
      "Step 8/27 : ARG py_ver=3.8.10\n",
      " ---> Using cache\n",
      " ---> 3af9f8c5bb5c\n",
      "Step 9/27 : RUN conda create --quiet --yes -p \"${CONDA_DIR}/envs/${conda_env}\" python=${py_ver} &&     conda clean --all -f -y\n",
      " ---> Using cache\n",
      " ---> a97f0f80c168\n",
      "Step 10/27 : COPY requirements.txt .\n",
      " ---> Using cache\n",
      " ---> c83ee36e7930\n",
      "Step 11/27 : COPY requirements-problems.txt .\n",
      " ---> Using cache\n",
      " ---> f1177ca1ac54\n",
      "Step 12/27 : RUN \"${CONDA_DIR}/envs/${conda_env}/bin/pip\" install -U pip\n",
      " ---> Using cache\n",
      " ---> 61527ac0c4f6\n",
      "Step 13/27 : RUN \"${CONDA_DIR}/envs/${conda_env}/bin/pip\" install -r requirements.txt\n",
      " ---> Using cache\n",
      " ---> 607b293f4aad\n",
      "Step 14/27 : RUN \"${CONDA_DIR}/envs/${conda_env}/bin/python\" -m spacy download en_core_web_sm\n",
      " ---> Using cache\n",
      " ---> 7f7f8477cd41\n",
      "Step 15/27 : RUN \"${CONDA_DIR}/envs/${conda_env}/bin/python\" -m spacy download es_core_news_sm\n",
      " ---> Using cache\n",
      " ---> 3ea8c09e5b84\n",
      "Step 16/27 : RUN \"${CONDA_DIR}/envs/${conda_env}/bin/pip\" install -r requirements-problems.txt\n",
      " ---> Using cache\n",
      " ---> 1ea85472cf24\n",
      "Step 17/27 : RUN \"${CONDA_DIR}/envs/${conda_env}/bin/pip\" install multi-model-server sagemaker-inference\n",
      " ---> Using cache\n",
      " ---> 9ce6865e4307\n",
      "Step 18/27 : RUN conda install -p \"${CONDA_DIR}/envs/${conda_env}\" -c pytorch faiss-cpu -y &&     conda clean --all -f -y\n",
      " ---> Using cache\n",
      " ---> 2e0f52dbc28a\n",
      "Step 19/27 : COPY redis.conf /etc/redis/redis.conf\n",
      " ---> Using cache\n",
      " ---> bba6066e3ff1\n",
      "Step 20/27 : COPY nginx.conf /opt/ml/input/config/nginx.conf\n",
      " ---> Using cache\n",
      " ---> fa2e1f653974\n",
      "Step 21/27 : COPY dataBaseKey.pem /opt/ml/input/config/dataBaseKey.pem\n",
      " ---> Using cache\n",
      " ---> b1d702a05e1c\n",
      "Step 22/27 : ENV PATH \"${CONDA_DIR}/envs/${conda_env}/bin:${PATH}\"\n",
      " ---> Using cache\n",
      " ---> f001fc7ce676\n",
      "Step 23/27 : ENV CONDA_DEFAULT_ENV ${conda_env}\n",
      " ---> Using cache\n",
      " ---> 31a1574f917f\n",
      "Step 24/27 : ENV PATH=\"/opt/ml/code:${PATH}\"\n",
      " ---> Using cache\n",
      " ---> 9b9ebd6a4695\n",
      "Step 25/27 : COPY koombea_serve koombea_serve\n",
      " ---> Using cache\n",
      " ---> e5be309fcae2\n",
      "Step 26/27 : COPY serve serve\n",
      " ---> Using cache\n",
      " ---> 8b6bb0d3d33c\n",
      "Step 27/27 : COPY cache.py cache.py\n",
      " ---> Using cache\n",
      " ---> 6e471b0df7f9\n",
      "Successfully built 6e471b0df7f9\n",
      "Successfully tagged koombea_blogs_serve_koombea_blogs_serve_component:latest\n",
      "pushing container\n",
      "The push refers to repository [256305374409.dkr.ecr.us-west-2.amazonaws.com/koombea-blogs-serve-component]\n",
      "\n",
      "\u001b[1B19e23cb2: Preparing \n",
      "\u001b[1B4f3f4b9b: Preparing \n",
      "\u001b[1B551450fd: Preparing \n",
      "\u001b[1B31ff513a: Preparing \n",
      "\u001b[1Baa127317: Preparing \n",
      "\u001b[1Bef6c8a96: Preparing \n",
      "\u001b[1Ba784285c: Preparing \n",
      "\u001b[1B1b2497ed: Preparing \n",
      "\u001b[1B292b817c: Preparing \n",
      "\u001b[1Be227580a: Preparing \n",
      "\u001b[1B45e37b91: Preparing \n",
      "\u001b[1B3e796cf4: Preparing \n",
      "\u001b[1B4a9d0f64: Preparing \n",
      "\u001b[1B7c9246f0: Preparing \n",
      "\u001b[1B04c7e46c: Preparing \n",
      "\u001b[1Bc9879e10: Preparing \n",
      "\u001b[1Bd708c5d4: Preparing \n",
      "\u001b[1B61c8e7a3: Preparing \n",
      "\u001b[1B56d47792: Preparing \n",
      "\u001b[1B617bd3c6: Preparing \n",
      "\u001b[1B2a3896c6: Preparing \n",
      "\u001b[1Bd251b653: Layer already exists \u001b[18A\u001b[2K\u001b[17A\u001b[2K\u001b[11A\u001b[2K\u001b[6A\u001b[2KLayer already exists latest: digest: sha256:0a74a9c2f45b95f57a2fc7259a5116a11af6a7bbff49cf432f464f1ab552f2fb size: 4945\n",
      "cleaning dockers cache\n",
      "WARNING! This will remove:\n",
      "  - all stopped containers\n",
      "  - all networks not used by at least one container\n",
      "  - all dangling images\n",
      "  - all dangling build cache\n",
      "\n",
      "Are you sure you want to continue? [y/N] Total reclaimed space: 0B\n"
     ]
    }
   ],
   "source": [
    "!bash ../scripts/build_and_push_ecr.sh"
   ]
  },
  {
   "cell_type": "markdown",
   "id": "63016603",
   "metadata": {},
   "source": [
    "## Update endpoint"
   ]
  },
  {
   "cell_type": "code",
   "execution_count": 13,
   "id": "bcb91f9a",
   "metadata": {},
   "outputs": [
    {
     "name": "stdout",
     "output_type": "stream",
     "text": [
      "staging\n"
     ]
    }
   ],
   "source": [
    "# configurations\n",
    "print(stage)\n",
    "if stage == \"staging\":\n",
    "    endpoint_name = \"blogsearch-stage-dev-2020-08-11-18-01-30\" # dev\n",
    "elif stage == \"prod\":\n",
    "    endpoint_name = \"blogsearch-stage-prod-2020-08-11-22-52-22\" # prod\n",
    "# model name\n",
    "model_name = 'model-blogsreco-stage-{0}-{1}'.format(stage, strftime(\"%Y-%m-%d-%H-%M-%S\", gmtime()))\n",
    "# s3 bucket name\n",
    "bucket_name = sagemaker_session.default_bucket()\n",
    "folder_project_name = \"koombea_website_ml\"\n",
    "folder_models_name = \"koombea_blogs_models\"\n",
    "if stage == \"staging\":\n",
    "    last_training_job_name = \"koombea-blogs-vector-train-2023-02-08-16-28-31-172\"\n",
    "elif stage == \"prod\":\n",
    "    last_training_job_name = \"\"\n",
    "path_to_model_tar = \"output/model.tar.gz\"\n",
    "key_output_prefix = \"{}/{}/{}/{}\".format(folder_project_name, folder_models_name,\n",
    "                                         last_training_job_name, path_to_model_tar)\n",
    "s3_bucket_model_name = \"s3://{}/{}\".format(bucket_name, key_output_prefix)\n",
    "# instance config\n",
    "instance_type = \"ml.t2.medium\""
   ]
  },
  {
   "cell_type": "code",
   "execution_count": 14,
   "id": "d76b7521",
   "metadata": {},
   "outputs": [
    {
     "data": {
      "text/plain": [
       "'s3://sagemaker-us-west-2-256305374409/koombea_website_ml/koombea_blogs_models/koombea-blogs-vector-train-2023-02-08-16-28-31-172/output/model.tar.gz'"
      ]
     },
     "execution_count": 14,
     "metadata": {},
     "output_type": "execute_result"
    }
   ],
   "source": [
    "s3_bucket_model_name"
   ]
  },
  {
   "cell_type": "code",
   "execution_count": 15,
   "id": "c7b8dce3",
   "metadata": {},
   "outputs": [],
   "source": [
    "model = Model(\n",
    "    image_uri=repository_uri,\n",
    "    model_data = s3_bucket_model_name,\n",
    "    role=sagemaker_role,\n",
    "    env=environment,\n",
    "    name=model_name,\n",
    "    vpc_config=vpc_config,\n",
    "    sagemaker_session=sagemaker_session\n",
    ")"
   ]
  },
  {
   "cell_type": "code",
   "execution_count": 16,
   "id": "d22c6c86",
   "metadata": {},
   "outputs": [],
   "source": [
    "model._create_sagemaker_model(\n",
    "    instance_type=instance_type\n",
    ")"
   ]
  },
  {
   "cell_type": "markdown",
   "id": "aaeecf53",
   "metadata": {},
   "source": [
    "### Make Predictions"
   ]
  },
  {
   "cell_type": "code",
   "execution_count": 17,
   "id": "93a23b8e",
   "metadata": {},
   "outputs": [],
   "source": [
    "predictor = Predictor(\n",
    "    endpoint_name=endpoint_name,\n",
    "    sagemaker_session=sagemaker_session,\n",
    "    serializer=JSONSerializer(),\n",
    "    deserializer=JSONDeserializer()\n",
    ")"
   ]
  },
  {
   "cell_type": "code",
   "execution_count": 18,
   "id": "67eb3335",
   "metadata": {},
   "outputs": [
    {
     "name": "stdout",
     "output_type": "stream",
     "text": [
      "---------------------!"
     ]
    }
   ],
   "source": [
    "predictor.update_endpoint(\n",
    "    initial_instance_count=1,\n",
    "    instance_type=instance_type,\n",
    "    model_name=model.name\n",
    ")"
   ]
  },
  {
   "cell_type": "code",
   "execution_count": 19,
   "id": "83a9176e",
   "metadata": {},
   "outputs": [
    {
     "data": {
      "text/plain": [
       "{'paging': {'total_count': 434,\n",
       "  'total_pages': 217,\n",
       "  'current_page': 1,\n",
       "  'per_page': 2},\n",
       " 'posts': [{'id': 3854,\n",
       "   'slug': 'difference-between-mobile-apps-and-web-apps',\n",
       "   'link': 'https://koombea20stg.wpengine.com/blog/difference-between-mobile-apps-and-web-apps/',\n",
       "   'title': 'Mobile App Vs Web App: What’s The Difference?',\n",
       "   'post_modified': 'Jan 04, 2023',\n",
       "   'post_date': 'Sep 01, 2021',\n",
       "   'author': 'Jonathan Tarud',\n",
       "   'industry': 'App Development',\n",
       "   'content_type': 'Blog',\n",
       "   'image_alt': 'A user looking at his phone.',\n",
       "   'image': 'https://koombea20stg.wpengine.com/wp-content/uploads/2021/04/mobile-apps-vs-web-apps-banner@2x-603x352.jpeg'},\n",
       "  {'id': 6419,\n",
       "   'slug': 'mobile-web-app',\n",
       "   'link': 'https://koombea20stg.wpengine.com/blog/mobile-web-app/',\n",
       "   'title': 'Build a Mobile Web App: Why Do You Need One?',\n",
       "   'post_modified': 'Jan 04, 2023',\n",
       "   'post_date': 'Oct 29, 2021',\n",
       "   'author': 'Jose Gomez',\n",
       "   'industry': 'App Development',\n",
       "   'content_type': 'Blog',\n",
       "   'image_alt': 'Build a mobile web app',\n",
       "   'image': 'https://koombea20stg.wpengine.com/wp-content/uploads/2021/10/build-a-mobile-web-app-banner@2x-603x352.jpg'}]}"
      ]
     },
     "execution_count": 19,
     "metadata": {},
     "output_type": "execute_result"
    }
   ],
   "source": [
    "data = {\n",
    "    \"s\": \"difference between web and mobile apps\", \n",
    "    \"lang\": \"en\",\n",
    "    \"per_page\": 2,\n",
    "    \"page\":1,\n",
    "    #\"term\":[\"hi-tech\", \"iot\"]\n",
    "}\n",
    "predictor.predict(data)"
   ]
  },
  {
   "cell_type": "markdown",
   "id": "6c7cd1ad",
   "metadata": {},
   "source": [
    "# Test Any Endpoint"
   ]
  },
  {
   "cell_type": "code",
   "execution_count": 23,
   "id": "0f30b2fa",
   "metadata": {},
   "outputs": [],
   "source": [
    "import boto3\n",
    "import json\n",
    "\n",
    "data = {\n",
    "    \"s\": \"difference between web and mobile apps\", \n",
    "    \"lang\": \"en\",\n",
    "    \"per_page\": 2,\n",
    "    \"page\":1,\n",
    "    #\"term\":[\"hi-tech\", \"iot\"]\n",
    "}\n",
    "\n",
    "sagemaker_client = boto3.client(\"sagemaker-runtime\")"
   ]
  },
  {
   "cell_type": "code",
   "execution_count": 28,
   "id": "eb9d38b0",
   "metadata": {},
   "outputs": [
    {
     "name": "stdout",
     "output_type": "stream",
     "text": [
      "{\n",
      "  \"paging\": {\n",
      "    \"total_count\": 464,\n",
      "    \"total_pages\": 232,\n",
      "    \"current_page\": 1,\n",
      "    \"per_page\": 2\n",
      "  },\n",
      "  \"posts\": [\n",
      "    {\n",
      "      \"id\": 3854,\n",
      "      \"slug\": \"difference-between-mobile-apps-and-web-apps\",\n",
      "      \"link\": \"https://koombea20stg.wpengine.com/blog/difference-between-mobile-apps-and-web-apps/\",\n",
      "      \"title\": \"Mobile App Vs Web App: What\\u2019s The Difference?\",\n",
      "      \"post_modified\": \"Jan 04, 2023\",\n",
      "      \"post_date\": \"Sep 01, 2021\",\n",
      "      \"author\": \"Jonathan Tarud\",\n",
      "      \"industry\": \"App Development\",\n",
      "      \"content_type\": \"Blog\",\n",
      "      \"image_alt\": \"A user looking at his phone.\",\n",
      "      \"image\": \"https://koombea20stg.wpengine.com/wp-content/uploads/2021/04/mobile-apps-vs-web-apps-banner@2x-603x352.jpeg\"\n",
      "    },\n",
      "    {\n",
      "      \"id\": 6419,\n",
      "      \"slug\": \"mobile-web-app\",\n",
      "      \"link\": \"https://koombea20stg.wpengine.com/blog/mobile-web-app/\",\n",
      "      \"title\": \"Build a Mobile Web App: Why Do You Need One?\",\n",
      "      \"post_modified\": \"Jan 04, 2023\",\n",
      "      \"post_date\": \"Oct 29, 2021\",\n",
      "      \"author\": \"Jose Gomez\",\n",
      "      \"industry\": \"App Development\",\n",
      "      \"content_type\": \"Blog\",\n",
      "      \"image_alt\": \"Build a mobile web app\",\n",
      "      \"image\": \"https://koombea20stg.wpengine.com/wp-content/uploads/2021/10/build-a-mobile-web-app-banner@2x-603x352.jpg\"\n",
      "    }\n",
      "  ]\n",
      "}\n"
     ]
    }
   ],
   "source": [
    "endpoint_name = \"blogsearch-stage-dev-2020-08-11-18-01-30\"\n",
    "response = sagemaker_client.invoke_endpoint(\n",
    "    EndpointName=endpoint_name,\n",
    "    Body = json.dumps(data),\n",
    "    ContentType = \"application/json\"\n",
    ")\n",
    "\n",
    "print(json.dumps(json.loads(response[\"Body\"].read().decode()), indent=2))"
   ]
  },
  {
   "cell_type": "code",
   "execution_count": 29,
   "id": "f18d3466",
   "metadata": {},
   "outputs": [
    {
     "name": "stdout",
     "output_type": "stream",
     "text": [
      "{\n",
      "  \"paging\": {\n",
      "    \"total_count\": 492,\n",
      "    \"total_pages\": 246,\n",
      "    \"current_page\": 1,\n",
      "    \"per_page\": 2\n",
      "  },\n",
      "  \"posts\": [\n",
      "    {\n",
      "      \"id\": 3854,\n",
      "      \"slug\": \"difference-between-mobile-apps-and-web-apps\",\n",
      "      \"link\": \"https://www.koombea.com/blog/difference-between-mobile-apps-and-web-apps/\",\n",
      "      \"title\": \"Mobile App Vs Web App: What\\u2019s The Difference?\",\n",
      "      \"post_modified\": \"Feb 02, 2023\",\n",
      "      \"post_date\": \"Sep 01, 2021\",\n",
      "      \"author\": \"Jonathan Tarud\",\n",
      "      \"industry\": \"App Development\",\n",
      "      \"content_type\": \"Blog\",\n",
      "      \"image_alt\": \"A user looking at his phone.\",\n",
      "      \"image\": \"https://www.koombea.com/wp-content/uploads/2021/04/mobile-apps-vs-web-apps-banner@2x-603x352.jpeg\"\n",
      "    },\n",
      "    {\n",
      "      \"id\": 6419,\n",
      "      \"slug\": \"mobile-web-app\",\n",
      "      \"link\": \"https://www.koombea.com/blog/mobile-web-app/\",\n",
      "      \"title\": \"Build a Mobile Web App: Why Do You Need One?\",\n",
      "      \"post_modified\": \"Feb 02, 2023\",\n",
      "      \"post_date\": \"Oct 29, 2021\",\n",
      "      \"author\": \"Jose Gomez\",\n",
      "      \"industry\": \"App Development\",\n",
      "      \"content_type\": \"Blog\",\n",
      "      \"image_alt\": \"Build a mobile web app\",\n",
      "      \"image\": \"https://www.koombea.com/wp-content/uploads/2021/10/build-a-mobile-web-app-banner@2x-603x352.jpg\"\n",
      "    }\n",
      "  ]\n",
      "}\n"
     ]
    }
   ],
   "source": [
    "endpoint_name = \"blogsearch-stage-prod-2020-08-11-22-52-22\"\n",
    "response = sagemaker_client.invoke_endpoint(\n",
    "    EndpointName=endpoint_name,\n",
    "    Body = json.dumps(data),\n",
    "    ContentType = \"application/json\"\n",
    ")\n",
    "\n",
    "print(json.dumps(json.loads(response[\"Body\"].read().decode()), indent=2))"
   ]
  },
  {
   "cell_type": "code",
   "execution_count": null,
   "id": "acdc6854",
   "metadata": {},
   "outputs": [],
   "source": []
  }
 ],
 "metadata": {
  "kernelspec": {
   "display_name": "python38 my_env",
   "language": "python",
   "name": "python38"
  },
  "language_info": {
   "codemirror_mode": {
    "name": "ipython",
    "version": 3
   },
   "file_extension": ".py",
   "mimetype": "text/x-python",
   "name": "python",
   "nbconvert_exporter": "python",
   "pygments_lexer": "ipython3",
   "version": "3.8.10"
  }
 },
 "nbformat": 4,
 "nbformat_minor": 5
}
